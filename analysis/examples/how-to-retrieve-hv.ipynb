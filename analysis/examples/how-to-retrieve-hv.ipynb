{
 "cells": [
  {
   "cell_type": "code",
   "execution_count": 1,
   "metadata": {},
   "outputs": [],
   "source": [
    "import sqlite3\n",
    "import numpy as np"
   ]
  },
  {
   "cell_type": "code",
   "execution_count": 2,
   "metadata": {},
   "outputs": [],
   "source": [
    "def print_schema(connection):\n",
    "    for row in connection.execute(\"select sql from sqlite_master\").fetchall():\n",
    "        print(row[0])\n",
    "        \n",
    "def print_row(row):\n",
    "    if row is None:\n",
    "        print('NOT FOUND')\n",
    "    else:\n",
    "        for key in row.keys():\n",
    "            print(f'{key}={row[key]}' )"
   ]
  },
  {
   "cell_type": "code",
   "execution_count": 3,
   "metadata": {},
   "outputs": [
    {
     "name": "stdout",
     "output_type": "stream",
     "text": [
      "CREATE TABLE \"runs\" (\n",
      "\"index\" INTEGER,\n",
      "  \"l1_hlt_mode_stripped\" TEXT,\n",
      "  \"l1_key\" TEXT,\n",
      "  \"duration\" REAL,\n",
      "  \"b_field\" REAL,\n",
      "  \"tier0_transfer\" INTEGER,\n",
      "  \"l1_triggers_counter\" REAL,\n",
      "  \"hlt_physics_throughput\" REAL,\n",
      "  \"init_lumi\" REAL,\n",
      "  \"last_update\" TIMESTAMP,\n",
      "  \"beamactive_total_deadtime\" REAL,\n",
      "  \"recorded_lumi\" REAL,\n",
      "  \"delivered_lumi\" REAL,\n",
      "  \"cmssw_version\" TEXT,\n",
      "  \"crossing_angle_stop\" REAL,\n",
      "  \"energy\" REAL,\n",
      "  \"end_lumi\" REAL,\n",
      "  \"hlt_physics_rate\" REAL,\n",
      "  \"fill_number\" REAL,\n",
      "  \"l1_hlt_mode\" TEXT,\n",
      "  \"end_time\" TIMESTAMP,\n",
      "  \"trigger_mode\" TEXT,\n",
      "  \"l1_key_stripped\" TEXT,\n",
      "  \"crossing_angle_start\" REAL,\n",
      "  \"fill_type_party2\" TEXT,\n",
      "  \"fill_type_party1\" TEXT,\n",
      "  \"beta_star_start\" REAL,\n",
      "  \"initial_prescale_index\" REAL,\n",
      "  \"sequence\" TEXT,\n",
      "  \"start_time\" TIMESTAMP,\n",
      "  \"hlt_physics_size\" REAL,\n",
      "  \"fill_type_runtime\" TEXT,\n",
      "  \"hlt_key\" TEXT,\n",
      "  \"clock_type\" TEXT,\n",
      "  \"last_lumisection_number\" REAL,\n",
      "  \"l1_rate\" REAL,\n",
      "  \"l1_menu\" TEXT,\n",
      "  \"run_number\" INTEGER,\n",
      "  \"stable_beam\" INTEGER,\n",
      "  \"beta_star_stop\" REAL,\n",
      "  \"hlt_physics_counter\" REAL,\n",
      "  \"DAQ\" INTEGER,\n",
      "  \"DCS\" INTEGER,\n",
      "  \"DQM\" INTEGER,\n",
      "  \"DT\" INTEGER,\n",
      "  \"ECAL\" INTEGER,\n",
      "  \"ES\" INTEGER,\n",
      "  \"GEM\" INTEGER,\n",
      "  \"L1SCOUT\" INTEGER,\n",
      "  \"PIXEL\" INTEGER,\n",
      "  \"RPC\" INTEGER,\n",
      "  \"TCDS\" INTEGER,\n",
      "  \"TRACKER\" INTEGER,\n",
      "  \"TRG\" INTEGER,\n",
      "  \"CSC\" INTEGER,\n",
      "  \"CTPPS\" INTEGER,\n",
      "  \"CTPPS_TOT\" INTEGER,\n",
      "  \"HCAL\" INTEGER\n",
      ")\n",
      "CREATE INDEX \"ix_runs_index\"ON \"runs\" (\"index\")\n"
     ]
    }
   ],
   "source": [
    "oms_connection = sqlite3.connect('/store/scratch/dqm/OMS/runs_352322_358185.sql')\n",
    "oms_connection.row_factory = sqlite3.Row\n",
    "oms = oms_connection.cursor()\n",
    "print_schema(oms_connection)"
   ]
  },
  {
   "cell_type": "code",
   "execution_count": 4,
   "metadata": {},
   "outputs": [
    {
     "name": "stdout",
     "output_type": "stream",
     "text": [
      "run_number=357606\n",
      "start_time=2022-08-17 00:30:05+00:00\n",
      "end_time=2022-08-17 02:49:56+00:00\n",
      "duration=8391.0\n",
      "GEM=1\n",
      "CSC=1\n",
      "DQM=1\n",
      "tier0_transfer=1\n"
     ]
    }
   ],
   "source": [
    "query = \"\"\"\n",
    "SELECT\n",
    "    run_number,\n",
    "    start_time,\n",
    "    end_time,\n",
    "    duration,\n",
    "    GEM,\n",
    "    CSC,\n",
    "    DQM,\n",
    "    tier0_transfer\n",
    "FROM\n",
    "    runs\n",
    "WHERE\n",
    "    run_number = ?\n",
    "\"\"\"\n",
    "\n",
    "run_number = 357606\n",
    "run_row = oms.execute(query, (run_number, )).fetchone()\n",
    "print_row(run_row)"
   ]
  },
  {
   "cell_type": "code",
   "execution_count": 5,
   "metadata": {},
   "outputs": [
    {
     "name": "stdout",
     "output_type": "stream",
     "text": [
      "CREATE TABLE \"hv\" (\n",
      "\"index\" INTEGER,\n",
      "  \"region\" INTEGER,\n",
      "  \"station\" INTEGER,\n",
      "  \"layer\" INTEGER,\n",
      "  \"chamber\" INTEGER,\n",
      "  \"time\" TIMESTAMP,\n",
      "  \"hv\" REAL\n",
      ")\n",
      "CREATE INDEX \"ix_hv_index\"ON \"hv\" (\"index\")\n"
     ]
    }
   ],
   "source": [
    "hv_db = '/store/scratch/dqm/P5GEMOfflineMonitor/P5_GEM_HV_monitor_UTC_start_2022-04-25_16-07-57_end_2022-08-25_15-22-38.sql'\n",
    "hv_connection = sqlite3.connect(hv_db)\n",
    "hv_connection.row_factory = sqlite3.Row\n",
    "hv_cursor = hv_connection.cursor()\n",
    "\n",
    "print_schema(hv_connection)"
   ]
  },
  {
   "cell_type": "code",
   "execution_count": 6,
   "metadata": {},
   "outputs": [
    {
     "name": "stdout",
     "output_type": "stream",
     "text": [
      "found 27 records\n"
     ]
    }
   ],
   "source": [
    "hv_query = \"\"\"\n",
    "SELECT\n",
    "    hv\n",
    "FROM\n",
    "    hv\n",
    "WHERE\n",
    "    time >= ?\n",
    "    AND time <= ?\n",
    "    AND region = ?\n",
    "    AND station = ?\n",
    "    AND chamber = ?\n",
    "\"\"\"\n",
    "\n",
    "region = 1\n",
    "station = 1\n",
    "chamber = 1\n",
    "hv_query_parameters = (\n",
    "    run_row['start_time'],\n",
    "    run_row['end_time'],\n",
    "    1, # region\n",
    "    1, # station\n",
    "    1, # chamber\n",
    ")\n",
    "\n",
    "\n",
    "hv_row_list = hv_cursor.execute(hv_query, hv_query_parameters).fetchall()\n",
    "if hv_row_list is None:\n",
    "    print('HV NOT FOUND')\n",
    "else:\n",
    "    print(f'found {len(hv_row_list)} records')"
   ]
  },
  {
   "cell_type": "code",
   "execution_count": 7,
   "metadata": {},
   "outputs": [],
   "source": [
    "hv_list = [row['hv'] for row in hv_row_list]\n",
    "hv_avg = np.mean(hv_list)"
   ]
  },
  {
   "cell_type": "code",
   "execution_count": 8,
   "metadata": {},
   "outputs": [
    {
     "name": "stdout",
     "output_type": "stream",
     "text": [
      "run_number=357606: hv_avg=731.9\n"
     ]
    }
   ],
   "source": [
    "print(f'{run_number=:d}: {hv_avg=:.1f}')"
   ]
  }
 ],
 "metadata": {
  "kernelspec": {
   "display_name": "GEM DQM Analysis (Python 3.9)",
   "language": "python",
   "name": "gem-dqm-analysis-py39"
  },
  "language_info": {
   "codemirror_mode": {
    "name": "ipython",
    "version": 3
   },
   "file_extension": ".py",
   "mimetype": "text/x-python",
   "name": "python",
   "nbconvert_exporter": "python",
   "pygments_lexer": "ipython3",
   "version": "3.9.13"
  }
 },
 "nbformat": 4,
 "nbformat_minor": 4
}
