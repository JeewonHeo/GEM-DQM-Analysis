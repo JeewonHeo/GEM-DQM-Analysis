{
 "cells": [
  {
   "cell_type": "code",
   "execution_count": 1,
   "metadata": {},
   "outputs": [],
   "source": [
    "import sqlite3"
   ]
  },
  {
   "cell_type": "code",
   "execution_count": 2,
   "metadata": {},
   "outputs": [],
   "source": [
    "def print_schema(connection):\n",
    "    for row in connection.execute(\"select sql from sqlite_master\").fetchall():\n",
    "        print(row[0])\n",
    "\n",
    "def print_row(row):\n",
    "    print(', '.join([f'{key}={row[key]}' for key in row.keys()]))"
   ]
  },
  {
   "cell_type": "code",
   "execution_count": 3,
   "metadata": {},
   "outputs": [
    {
     "name": "stdout",
     "output_type": "stream",
     "text": [
      "CREATE TABLE \"runs\" (\n",
      "\"index\" INTEGER,\n",
      "  \"l1_hlt_mode_stripped\" TEXT,\n",
      "  \"l1_key\" TEXT,\n",
      "  \"duration\" REAL,\n",
      "  \"b_field\" REAL,\n",
      "  \"tier0_transfer\" INTEGER,\n",
      "  \"l1_triggers_counter\" REAL,\n",
      "  \"hlt_physics_throughput\" REAL,\n",
      "  \"init_lumi\" REAL,\n",
      "  \"last_update\" TIMESTAMP,\n",
      "  \"beamactive_total_deadtime\" REAL,\n",
      "  \"recorded_lumi\" REAL,\n",
      "  \"delivered_lumi\" REAL,\n",
      "  \"cmssw_version\" TEXT,\n",
      "  \"crossing_angle_stop\" REAL,\n",
      "  \"energy\" REAL,\n",
      "  \"end_lumi\" REAL,\n",
      "  \"hlt_physics_rate\" REAL,\n",
      "  \"fill_number\" REAL,\n",
      "  \"l1_hlt_mode\" TEXT,\n",
      "  \"end_time\" TIMESTAMP,\n",
      "  \"trigger_mode\" TEXT,\n",
      "  \"l1_key_stripped\" TEXT,\n",
      "  \"crossing_angle_start\" REAL,\n",
      "  \"fill_type_party2\" TEXT,\n",
      "  \"fill_type_party1\" TEXT,\n",
      "  \"beta_star_start\" REAL,\n",
      "  \"initial_prescale_index\" REAL,\n",
      "  \"sequence\" TEXT,\n",
      "  \"start_time\" TIMESTAMP,\n",
      "  \"hlt_physics_size\" REAL,\n",
      "  \"fill_type_runtime\" TEXT,\n",
      "  \"hlt_key\" TEXT,\n",
      "  \"clock_type\" TEXT,\n",
      "  \"last_lumisection_number\" REAL,\n",
      "  \"l1_rate\" REAL,\n",
      "  \"l1_menu\" TEXT,\n",
      "  \"run_number\" INTEGER,\n",
      "  \"stable_beam\" INTEGER,\n",
      "  \"beta_star_stop\" REAL,\n",
      "  \"hlt_physics_counter\" REAL,\n",
      "  \"DAQ\" INTEGER,\n",
      "  \"DCS\" INTEGER,\n",
      "  \"DQM\" INTEGER,\n",
      "  \"DT\" INTEGER,\n",
      "  \"ECAL\" INTEGER,\n",
      "  \"ES\" INTEGER,\n",
      "  \"GEM\" INTEGER,\n",
      "  \"L1SCOUT\" INTEGER,\n",
      "  \"PIXEL\" INTEGER,\n",
      "  \"RPC\" INTEGER,\n",
      "  \"TCDS\" INTEGER,\n",
      "  \"TRACKER\" INTEGER,\n",
      "  \"TRG\" INTEGER,\n",
      "  \"CSC\" INTEGER,\n",
      "  \"CTPPS\" INTEGER,\n",
      "  \"CTPPS_TOT\" INTEGER,\n",
      "  \"HCAL\" INTEGER\n",
      ")\n",
      "CREATE INDEX \"ix_runs_index\"ON \"runs\" (\"index\")\n"
     ]
    }
   ],
   "source": [
    "oms_db = '/store/scratch/dqm/OMS/runs_352322_358185.sql'\n",
    "oms_connection = sqlite3.connect(oms_db)\n",
    "oms_connection.row_factory = sqlite3.Row\n",
    "oms = oms_connection.cursor()\n",
    "print_schema(oms_connection)"
   ]
  },
  {
   "cell_type": "code",
   "execution_count": 4,
   "metadata": {},
   "outputs": [],
   "source": [
    "sql = \"\"\"\n",
    "SELECT\n",
    "    run_number\n",
    "FROM\n",
    "    runs\n",
    "WHERE\n",
    "    end_time IS NOT NULL\n",
    "    AND tier0_transfer = 1\n",
    "    AND GEM = 1\n",
    "    AND CSC = 1\n",
    "    AND DQM = 1\n",
    "    AND DAQ = 1\n",
    "    AND duration > ?\n",
    "\"\"\""
   ]
  },
  {
   "cell_type": "code",
   "execution_count": 5,
   "metadata": {},
   "outputs": [],
   "source": [
    "min_duration = 10 * 60 # 10 min\n",
    "\n",
    "good_run_list = [row['run_number'] for row in oms.execute(sql, (min_duration, )).fetchall()]"
   ]
  },
  {
   "cell_type": "code",
   "execution_count": 6,
   "metadata": {},
   "outputs": [],
   "source": [
    "print(len(good_run_list))\n",
    "print(good_run_list[0:5])\n",
    "print(good_run_list[-5:None])"
   ]
  },
  {
   "cell_type": "code",
   "execution_count": 6,
   "metadata": {},
   "outputs": [
    {
     "name": "stdout",
     "output_type": "stream",
     "text": [
      "903\n",
      "[352326, 352327, 352328, 352331, 352332]\n",
      "[358093, 358154, 358155, 358164, 358181]\n"
     ]
    }
   ],
   "source": []
  }
 ],
 "metadata": {
  "kernelspec": {
   "display_name": "GEM DQM Analysis (Python 3.9)",
   "language": "python",
   "name": "gem-dqm-analysis-py39"
  },
  "language_info": {
   "codemirror_mode": {
    "name": "ipython",
    "version": 3
   },
   "file_extension": ".py",
   "mimetype": "text/x-python",
   "name": "python",
   "nbconvert_exporter": "python",
   "pygments_lexer": "ipython3",
   "version": "3.9.13"
  }
 },
 "nbformat": 4,
 "nbformat_minor": 4
}
